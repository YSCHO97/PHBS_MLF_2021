{
 "cells": [
  {
   "cell_type": "code",
   "execution_count": 1,
   "id": "5863fd8a",
   "metadata": {},
   "outputs": [
    {
     "data": {
      "text/html": [
       "<div>\n",
       "<style scoped>\n",
       "    .dataframe tbody tr th:only-of-type {\n",
       "        vertical-align: middle;\n",
       "    }\n",
       "\n",
       "    .dataframe tbody tr th {\n",
       "        vertical-align: top;\n",
       "    }\n",
       "\n",
       "    .dataframe thead th {\n",
       "        text-align: right;\n",
       "    }\n",
       "</style>\n",
       "<table border=\"1\" class=\"dataframe\">\n",
       "  <thead>\n",
       "    <tr style=\"text-align: right;\">\n",
       "      <th></th>\n",
       "      <th>Unnamed: 0</th>\n",
       "      <th>SeriousDlqin2yrs</th>\n",
       "      <th>RevolvingUtilizationOfUnsecuredLines</th>\n",
       "      <th>age</th>\n",
       "      <th>NumberOfTime30-59DaysPastDueNotWorse</th>\n",
       "      <th>DebtRatio</th>\n",
       "      <th>MonthlyIncome</th>\n",
       "      <th>NumberOfOpenCreditLinesAndLoans</th>\n",
       "      <th>NumberOfTimes90DaysLate</th>\n",
       "      <th>NumberRealEstateLoansOrLines</th>\n",
       "      <th>NumberOfTime60-89DaysPastDueNotWorse</th>\n",
       "      <th>NumberOfDependents</th>\n",
       "    </tr>\n",
       "  </thead>\n",
       "  <tbody>\n",
       "    <tr>\n",
       "      <th>0</th>\n",
       "      <td>1</td>\n",
       "      <td>1</td>\n",
       "      <td>0.766127</td>\n",
       "      <td>45</td>\n",
       "      <td>2</td>\n",
       "      <td>0.802982</td>\n",
       "      <td>9120.0</td>\n",
       "      <td>13</td>\n",
       "      <td>0</td>\n",
       "      <td>6</td>\n",
       "      <td>0</td>\n",
       "      <td>2.0</td>\n",
       "    </tr>\n",
       "    <tr>\n",
       "      <th>1</th>\n",
       "      <td>2</td>\n",
       "      <td>0</td>\n",
       "      <td>0.957151</td>\n",
       "      <td>40</td>\n",
       "      <td>0</td>\n",
       "      <td>0.121876</td>\n",
       "      <td>2600.0</td>\n",
       "      <td>4</td>\n",
       "      <td>0</td>\n",
       "      <td>0</td>\n",
       "      <td>0</td>\n",
       "      <td>1.0</td>\n",
       "    </tr>\n",
       "    <tr>\n",
       "      <th>2</th>\n",
       "      <td>3</td>\n",
       "      <td>0</td>\n",
       "      <td>0.658180</td>\n",
       "      <td>38</td>\n",
       "      <td>1</td>\n",
       "      <td>0.085113</td>\n",
       "      <td>3042.0</td>\n",
       "      <td>2</td>\n",
       "      <td>1</td>\n",
       "      <td>0</td>\n",
       "      <td>0</td>\n",
       "      <td>0.0</td>\n",
       "    </tr>\n",
       "    <tr>\n",
       "      <th>3</th>\n",
       "      <td>4</td>\n",
       "      <td>0</td>\n",
       "      <td>0.233810</td>\n",
       "      <td>30</td>\n",
       "      <td>0</td>\n",
       "      <td>0.036050</td>\n",
       "      <td>3300.0</td>\n",
       "      <td>5</td>\n",
       "      <td>0</td>\n",
       "      <td>0</td>\n",
       "      <td>0</td>\n",
       "      <td>0.0</td>\n",
       "    </tr>\n",
       "    <tr>\n",
       "      <th>4</th>\n",
       "      <td>5</td>\n",
       "      <td>0</td>\n",
       "      <td>0.907239</td>\n",
       "      <td>49</td>\n",
       "      <td>1</td>\n",
       "      <td>0.024926</td>\n",
       "      <td>63588.0</td>\n",
       "      <td>7</td>\n",
       "      <td>0</td>\n",
       "      <td>1</td>\n",
       "      <td>0</td>\n",
       "      <td>0.0</td>\n",
       "    </tr>\n",
       "  </tbody>\n",
       "</table>\n",
       "</div>"
      ],
      "text/plain": [
       "   Unnamed: 0  SeriousDlqin2yrs  RevolvingUtilizationOfUnsecuredLines  age  \\\n",
       "0           1                 1                              0.766127   45   \n",
       "1           2                 0                              0.957151   40   \n",
       "2           3                 0                              0.658180   38   \n",
       "3           4                 0                              0.233810   30   \n",
       "4           5                 0                              0.907239   49   \n",
       "\n",
       "   NumberOfTime30-59DaysPastDueNotWorse  DebtRatio  MonthlyIncome  \\\n",
       "0                                     2   0.802982         9120.0   \n",
       "1                                     0   0.121876         2600.0   \n",
       "2                                     1   0.085113         3042.0   \n",
       "3                                     0   0.036050         3300.0   \n",
       "4                                     1   0.024926        63588.0   \n",
       "\n",
       "   NumberOfOpenCreditLinesAndLoans  NumberOfTimes90DaysLate  \\\n",
       "0                               13                        0   \n",
       "1                                4                        0   \n",
       "2                                2                        1   \n",
       "3                                5                        0   \n",
       "4                                7                        0   \n",
       "\n",
       "   NumberRealEstateLoansOrLines  NumberOfTime60-89DaysPastDueNotWorse  \\\n",
       "0                             6                                     0   \n",
       "1                             0                                     0   \n",
       "2                             0                                     0   \n",
       "3                             0                                     0   \n",
       "4                             1                                     0   \n",
       "\n",
       "   NumberOfDependents  \n",
       "0                 2.0  \n",
       "1                 1.0  \n",
       "2                 0.0  \n",
       "3                 0.0  \n",
       "4                 0.0  "
      ]
     },
     "execution_count": 1,
     "metadata": {},
     "output_type": "execute_result"
    }
   ],
   "source": [
    "import numpy as np\n",
    "import pandas as pd\n",
    "df = pd.read_csv(r'C:\\Users\\13460\\Desktop\\PHBS\\MLF\\Kaggle-Give-Me-Some-Data\\cs-training.csv') \n",
    "df.head()  #df.shape"
   ]
  },
  {
   "cell_type": "code",
   "execution_count": 6,
   "id": "46cf5930",
   "metadata": {},
   "outputs": [],
   "source": [
    "from sklearn.impute import SimpleImputer\n",
    "\n",
    "imp_mean = SimpleImputer(missing_values=np.nan, strategy='mean')\n",
    "X_imp = imp_mean.fit_transform(df.values)\n"
   ]
  },
  {
   "cell_type": "code",
   "execution_count": 7,
   "id": "bc43a979",
   "metadata": {},
   "outputs": [],
   "source": [
    "from sklearn.datasets import load_iris\n",
    "iris = load_iris() # Load the iris dataset"
   ]
  },
  {
   "cell_type": "code",
   "execution_count": 8,
   "id": "467cc2e7",
   "metadata": {},
   "outputs": [],
   "source": [
    "from sklearn.model_selection import train_test_split # Split the dataset into training and test sets\n",
    "X_train, X_test, y_train, y_test = train_test_split(iris.data, iris.target, test_size=0.2, random_state=42)"
   ]
  },
  {
   "cell_type": "code",
   "execution_count": 9,
   "id": "24138d14",
   "metadata": {},
   "outputs": [],
   "source": [
    "from sklearn.preprocessing import StandardScaler\n",
    "\n",
    "stdsc = StandardScaler()\n",
    "X_train_std = stdsc.fit_transform(X_train)\n",
    "X_test_std = stdsc.transform(X_test)"
   ]
  },
  {
   "cell_type": "code",
   "execution_count": 10,
   "id": "960fdde7",
   "metadata": {},
   "outputs": [
    {
     "data": {
      "text/plain": [
       "array([0.72551423, 0.23000922, 0.03960774])"
      ]
     },
     "execution_count": 10,
     "metadata": {},
     "output_type": "execute_result"
    }
   ],
   "source": [
    "from sklearn.decomposition import PCA\n",
    "pca = PCA(n_components=3)\n",
    "X_train_pca = pca.fit_transform(X_train_std)\n",
    "X_test_pca = pca.transform(X_test_std)\n",
    "pca.explained_variance_ratio_"
   ]
  },
  {
   "cell_type": "code",
   "execution_count": 11,
   "id": "2b1431e8",
   "metadata": {},
   "outputs": [
    {
     "data": {
      "image/png": "[encoded data removed]",
      "text/plain": [
       "<Figure size 640x480 with 4 Axes>"
      ]
     },
     "metadata": {},
     "output_type": "display_data"
    }
   ],
   "source": [
    "from matplotlib.colors import ListedColormap\n",
    "import matplotlib.pyplot as plt\n",
    "plt.style.use('ggplot')\n",
    "plt.subplot(141)\n",
    "plt.scatter(y_train, X_train_pca[:, 0])\n",
    "plt.xlabel('Class')\n",
    "plt.ylabel('PC 1')\n",
    "plt.subplot(142)\n",
    "plt.scatter(y_train, X_train_pca[:, 1])\n",
    "plt.xlabel('Class')\n",
    "plt.ylabel('PC 2')\n",
    "plt.subplot(143)\n",
    "plt.scatter(y_train, X_train_pca[:, 2])\n",
    "plt.xlabel('Class')\n",
    "plt.ylabel('PC 3')\n",
    "plt.subplot(144)\n",
    "plt.bar(range(1, len(pca.explained_variance_ratio_)+1), pca.explained_variance_ratio_, alpha=0.5, align='center')\n",
    "plt.step(range(1, len(pca.explained_variance_ratio_)+1), np.cumsum(pca.explained_variance_ratio_), where='mid')\n",
    "plt.ylabel('Explained variance ratio')\n",
    "plt.xlabel('Principal components')\n",
    "plt.subplots_adjust(right=2, wspace=0.5)\n",
    "plt.show()"
   ]
  },
  {
   "cell_type": "code",
   "execution_count": 12,
   "id": "ed9b8fc7",
   "metadata": {},
   "outputs": [
    {
     "name": "stdout",
     "output_type": "stream",
     "text": [
      "Accuracy when [c=0.08] \n",
      "Train 0.8166666666666667\n",
      "Test  0.8333333333333334\n"
     ]
    }
   ],
   "source": [
    "from sklearn.linear_model import LogisticRegression\n",
    "# simply using c chosen in previous HW 😀\n",
    "c=0.08\n",
    "lr = LogisticRegression(penalty='l1', C=c, solver='liblinear',  random_state=0)\n",
    "lr = lr.fit(X_train_pca, y_train)\n",
    "print(f'Accuracy when [c={c}] \\nTrain {lr.score(X_train_pca, y_train)}\\nTest  {lr.score(X_test_pca, y_test)}')"
   ]
  },
  {
   "cell_type": "code",
   "execution_count": 13,
   "id": "417ae46f",
   "metadata": {},
   "outputs": [
    {
     "name": "stdout",
     "output_type": "stream",
     "text": [
      "Accuracy when [gamma=0.25] \n",
      "Train 0.975\n",
      "Test  1.0\n"
     ]
    }
   ],
   "source": [
    "from sklearn.svm import SVC\n",
    "# simply using g chosen in previous HW 😀\n",
    "g = 0.25\n",
    "svm = SVC(kernel='rbf', gamma=g, random_state=0)\n",
    "svm.fit(X_train_pca, y_train)\n",
    "print(f'Accuracy when [gamma={g}] \\nTrain {svm.score(X_train_pca, y_train)}\\nTest  {svm.score(X_test_pca, y_test)}')"
   ]
  },
  {
   "cell_type": "code",
   "execution_count": 14,
   "id": "e1cf77b4",
   "metadata": {},
   "outputs": [
    {
     "name": "stdout",
     "output_type": "stream",
     "text": [
      "Accuracy when [gamma=0.25] \n",
      "Train 1.0\n",
      "Test  0.9333333333333333\n"
     ]
    }
   ],
   "source": [
    "from sklearn.tree import DecisionTreeClassifier\n",
    "# simply using depth chosen in previous HW 😀\n",
    "depth = 5\n",
    "tree = DecisionTreeClassifier(criterion='gini', max_depth=depth, random_state=0)\n",
    "tree.fit(X_train_pca, y_train)\n",
    "print(f'Accuracy when [gamma={g}] \\nTrain {tree.score(X_train_pca, y_train)}\\nTest  {tree.score(X_test_pca, y_test)}')"
   ]
  },
  {
   "cell_type": "code",
   "execution_count": 16,
   "id": "21bafce2",
   "metadata": {},
   "outputs": [],
   "source": [
    "from sklearn.preprocessing import StandardScaler\n",
    "from sklearn.decomposition import PCA\n",
    "from sklearn.linear_model import LogisticRegression\n",
    "from sklearn.tree import DecisionTreeClassifier\n",
    "from sklearn.svm import SVC\n",
    "from sklearn.pipeline import make_pipeline\n",
    "\n",
    "# simply using c, g, depth chosen in previous HW 😀\n",
    "c, g, depth = 0.08, 0.25, 5\n",
    "# Assign pipes:\n",
    "## Logistic regression\n",
    "pipe_lr =make_pipeline(StandardScaler(),\n",
    "                        PCA(n_components=3),\n",
    "                        LogisticRegression(penalty='l1', C=c, solver='liblinear',  random_state=0))\n",
    "## SVM\n",
    "pipe_svm = make_pipeline(StandardScaler(),\n",
    "                        PCA(n_components=3),\n",
    "                        SVC(kernel='rbf', gamma=g, random_state=0))\n",
    "## Decision tree\n",
    "pipe_tree = make_pipeline(StandardScaler(),\n",
    "                        PCA(n_components=3),\n",
    "                        DecisionTreeClassifier(criterion='gini', max_depth=depth, random_state=0))"
   ]
  },
  {
   "cell_type": "code",
   "execution_count": 21,
   "id": "87c4bf93",
   "metadata": {},
   "outputs": [
    {
     "name": "stdout",
     "output_type": "stream",
     "text": [
      "Pipeline: dict_keys(['standardscaler', 'pca', 'logisticregression'])\n",
      "Accuracy of : 0.8333333333333334\n",
      "\n",
      "Pipeline: dict_keys(['standardscaler', 'pca', 'svc'])\n",
      "Accuracy of : 1.0\n",
      "\n",
      "Pipeline: dict_keys(['standardscaler', 'pca', 'decisiontreeclassifier'])\n",
      "Accuracy of : 0.9333333333333333\n",
      "\n"
     ]
    }
   ],
   "source": [
    "# Model accuray interation\n",
    "for model in [pipe_lr, pipe_svm, pipe_tree]:\n",
    "    X_train, X_test, y_train, y_test =\\\n",
    "    train_test_split(iris.data, iris.target, test_size=0.2, random_state=42)\n",
    "    model.fit(X_train, y_train)\n",
    "    # print(np.isnan(X_train).any(), np.isnan(y_train).any(), np.isnan(X_test).any(),np.isnan(y_test).any())\n",
    "    y_pred = model.predict(X_test)\n",
    "    print(f'Pipeline: {model.named_steps.keys()}\\nAccuracy of : {model.score(X_test, y_test)}\\n') # only in Python>=3.7"
   ]
  },
  {
   "cell_type": "code",
   "execution_count": 22,
   "id": "59745129",
   "metadata": {},
   "outputs": [
    {
     "name": "stdout",
     "output_type": "stream",
     "text": [
      "0.9416666666666667\n",
      "{'logisticregression__C': 100, 'logisticregression__penalty': 'l1', 'logisticregression__solver': 'liblinear'}\n"
     ]
    }
   ],
   "source": [
    "from sklearn.model_selection import GridSearchCV\n",
    "\n",
    "pipe_lr = make_pipeline(StandardScaler(),\n",
    "                         PCA(n_components=3),\n",
    "                         LogisticRegression(penalty='l1', C=c, solver='liblinear',  random_state=0))\n",
    "\n",
    "param_range = [ 1e-05, 1e-04, 1e-03, 1e-02, 0.1, 1, 10, 100, 1000]\n",
    "\n",
    "param_grid = [{'logisticregression__C': param_range,\n",
    "               'logisticregression__penalty': ['l1'],\n",
    "               'logisticregression__solver': ['liblinear']},\n",
    "              {'logisticregression__C': param_range,\n",
    "               'logisticregression__penalty': ['l2']}]\n",
    "\n",
    "gs = GridSearchCV(estimator=pipe_lr, \n",
    "                  param_grid=param_grid, \n",
    "                  scoring='accuracy', \n",
    "                  cv=10,\n",
    "                  n_jobs=-1)\n",
    "gs = gs.fit(X_train, y_train)\n",
    "print(gs.best_score_)\n",
    "print(gs.best_params_)"
   ]
  },
  {
   "cell_type": "code",
   "execution_count": 23,
   "id": "6cf98306",
   "metadata": {},
   "outputs": [
    {
     "name": "stdout",
     "output_type": "stream",
     "text": [
      "Test accuracy: 1.000\n"
     ]
    }
   ],
   "source": [
    "clf = gs.best_estimator_\n",
    "print('Test accuracy: %.3f' % clf.score(X_test, y_test))"
   ]
  },
  {
   "cell_type": "code",
   "execution_count": null,
   "id": "c327baf8",
   "metadata": {},
   "outputs": [],
   "source": []
  }
 ],
 "metadata": {
  "kernelspec": {
   "display_name": "Python 3 (ipykernel)",
   "language": "python",
   "name": "python3"
  },
  "language_info": {
   "codemirror_mode": {
    "name": "ipython",
    "version": 3
   },
   "file_extension": ".py",
   "mimetype": "text/x-python",
   "name": "python",
   "nbconvert_exporter": "python",
   "pygments_lexer": "ipython3",
   "version": "3.9.13"
  }
 },
 "nbformat": 4,
 "nbformat_minor": 5
}
